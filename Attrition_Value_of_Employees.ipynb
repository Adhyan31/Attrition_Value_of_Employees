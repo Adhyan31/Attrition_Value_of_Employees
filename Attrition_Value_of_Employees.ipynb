{
  "nbformat": 4,
  "nbformat_minor": 0,
  "metadata": {
    "colab": {
      "name": "Attrition_Value_of_Employees.ipynb",
      "provenance": [],
      "collapsed_sections": []
    },
    "kernelspec": {
      "name": "python3",
      "display_name": "Python 3"
    }
  },
  "cells": [
    {
      "cell_type": "code",
      "metadata": {
        "id": "LQuIfYPzRamO",
        "colab_type": "code",
        "colab": {}
      },
      "source": [
        "#import libraries\n",
        "import numpy as np\n",
        "import matplotlib.pyplot as plt\n",
        "import pandas as pd"
      ],
      "execution_count": 1,
      "outputs": []
    },
    {
      "cell_type": "code",
      "metadata": {
        "id": "XqX_FU7DSp2Z",
        "colab_type": "code",
        "colab": {}
      },
      "source": [
        "#loading the data\n",
        "train_data= pd.read_csv('Train.csv')\n",
        "test_data= pd.read_csv('Test.csv')"
      ],
      "execution_count": 2,
      "outputs": []
    },
    {
      "cell_type": "code",
      "metadata": {
        "id": "frwEnwYsfRvv",
        "colab_type": "code",
        "colab": {
          "base_uri": "https://localhost:8080/",
          "height": 442
        },
        "outputId": "70e3785c-67df-43a2-c297-a08a2a9fb120"
      },
      "source": [
        "#count the number of missing data in the training set\n",
        "train_data.isna().sum()"
      ],
      "execution_count": 3,
      "outputs": [
        {
          "output_type": "execute_result",
          "data": {
            "text/plain": [
              "Employee_ID                    0\n",
              "Gender                         0\n",
              "Age                          412\n",
              "Education_Level                0\n",
              "Relationship_Status            0\n",
              "Hometown                       0\n",
              "Unit                           0\n",
              "Decision_skill_possess         0\n",
              "Time_of_service              144\n",
              "Time_since_promotion           0\n",
              "growth_rate                    0\n",
              "Travel_Rate                    0\n",
              "Post_Level                     0\n",
              "Pay_Scale                      9\n",
              "Compensation_and_Benefits      0\n",
              "Work_Life_balance             11\n",
              "VAR1                           0\n",
              "VAR2                         577\n",
              "VAR3                           0\n",
              "VAR4                         656\n",
              "VAR5                           0\n",
              "VAR6                           0\n",
              "VAR7                           0\n",
              "Attrition_rate                 0\n",
              "dtype: int64"
            ]
          },
          "metadata": {
            "tags": []
          },
          "execution_count": 3
        }
      ]
    },
    {
      "cell_type": "code",
      "metadata": {
        "id": "8D1dpRhTfzcN",
        "colab_type": "code",
        "colab": {
          "base_uri": "https://localhost:8080/",
          "height": 425
        },
        "outputId": "5ee46753-f79f-496c-ab04-2cd8024068e5"
      },
      "source": [
        "#count the number of data in the test set\n",
        "test_data.isna().sum()"
      ],
      "execution_count": 4,
      "outputs": [
        {
          "output_type": "execute_result",
          "data": {
            "text/plain": [
              "Employee_ID                    0\n",
              "Gender                         0\n",
              "Age                          161\n",
              "Education_Level                0\n",
              "Relationship_Status            0\n",
              "Hometown                       0\n",
              "Unit                           0\n",
              "Decision_skill_possess         0\n",
              "Time_of_service               52\n",
              "Time_since_promotion           0\n",
              "growth_rate                    0\n",
              "Travel_Rate                    0\n",
              "Post_Level                     0\n",
              "Pay_Scale                      3\n",
              "Compensation_and_Benefits      0\n",
              "Work_Life_balance              5\n",
              "VAR1                           0\n",
              "VAR2                         217\n",
              "VAR3                           0\n",
              "VAR4                         298\n",
              "VAR5                           0\n",
              "VAR6                           0\n",
              "VAR7                           0\n",
              "dtype: int64"
            ]
          },
          "metadata": {
            "tags": []
          },
          "execution_count": 4
        }
      ]
    },
    {
      "cell_type": "code",
      "metadata": {
        "id": "2LWK7eLCTbvO",
        "colab_type": "code",
        "colab": {}
      },
      "source": [
        "#filling all the missing values of the required columns with their mean\n",
        "from sklearn.impute import SimpleImputer\n",
        "imputer = SimpleImputer(missing_values=np.nan, strategy='mean')\n",
        "train_data['Age']= imputer.fit_transform(train_data['Age'].values.reshape(-1,1))\n",
        "train_data['Time_of_service']= imputer.fit_transform(train_data['Time_of_service'].values.reshape(-1,1))\n",
        "train_data['Pay_Scale']= imputer.fit_transform(train_data['Pay_Scale'].values.reshape(-1,1))\n",
        "train_data['VAR2']= imputer.fit_transform(train_data['VAR2'].values.reshape(-1,1))\n",
        "train_data['VAR4']= imputer.fit_transform(train_data['VAR4'].values.reshape(-1,1))\n",
        "train_data['Work_Life_balance']= imputer.fit_transform(train_data['Work_Life_balance'].values.reshape(-1,1))\n",
        "test_data['Age']= imputer.fit_transform(test_data['Age'].values.reshape(-1,1))\n",
        "test_data['Time_of_service']= imputer.fit_transform(test_data['Time_of_service'].values.reshape(-1,1))\n",
        "test_data['Pay_Scale']= imputer.fit_transform(test_data['Pay_Scale'].values.reshape(-1,1))\n",
        "test_data['VAR2']= imputer.fit_transform(test_data['VAR2'].values.reshape(-1,1))\n",
        "test_data['VAR4']= imputer.fit_transform(test_data['VAR4'].values.reshape(-1,1))\n",
        "test_data['Work_Life_balance']= imputer.fit_transform(test_data['Work_Life_balance'].values.reshape(-1,1))"
      ],
      "execution_count": 5,
      "outputs": []
    },
    {
      "cell_type": "code",
      "metadata": {
        "id": "VQwQ9XWSkU9i",
        "colab_type": "code",
        "colab": {
          "base_uri": "https://localhost:8080/",
          "height": 442
        },
        "outputId": "817b32a1-abff-41c7-ad08-058d96384068"
      },
      "source": [
        "#checking if any missing values got left out in the training set\n",
        "train_data.isna().sum()"
      ],
      "execution_count": 6,
      "outputs": [
        {
          "output_type": "execute_result",
          "data": {
            "text/plain": [
              "Employee_ID                  0\n",
              "Gender                       0\n",
              "Age                          0\n",
              "Education_Level              0\n",
              "Relationship_Status          0\n",
              "Hometown                     0\n",
              "Unit                         0\n",
              "Decision_skill_possess       0\n",
              "Time_of_service              0\n",
              "Time_since_promotion         0\n",
              "growth_rate                  0\n",
              "Travel_Rate                  0\n",
              "Post_Level                   0\n",
              "Pay_Scale                    0\n",
              "Compensation_and_Benefits    0\n",
              "Work_Life_balance            0\n",
              "VAR1                         0\n",
              "VAR2                         0\n",
              "VAR3                         0\n",
              "VAR4                         0\n",
              "VAR5                         0\n",
              "VAR6                         0\n",
              "VAR7                         0\n",
              "Attrition_rate               0\n",
              "dtype: int64"
            ]
          },
          "metadata": {
            "tags": []
          },
          "execution_count": 6
        }
      ]
    },
    {
      "cell_type": "code",
      "metadata": {
        "id": "KXeoVHRklCft",
        "colab_type": "code",
        "colab": {
          "base_uri": "https://localhost:8080/",
          "height": 425
        },
        "outputId": "9092945c-95f3-45eb-8fb0-c5ac7e4c9cbe"
      },
      "source": [
        "#checking if any missing values got left out in the test set\n",
        "test_data.isna().sum()"
      ],
      "execution_count": 7,
      "outputs": [
        {
          "output_type": "execute_result",
          "data": {
            "text/plain": [
              "Employee_ID                  0\n",
              "Gender                       0\n",
              "Age                          0\n",
              "Education_Level              0\n",
              "Relationship_Status          0\n",
              "Hometown                     0\n",
              "Unit                         0\n",
              "Decision_skill_possess       0\n",
              "Time_of_service              0\n",
              "Time_since_promotion         0\n",
              "growth_rate                  0\n",
              "Travel_Rate                  0\n",
              "Post_Level                   0\n",
              "Pay_Scale                    0\n",
              "Compensation_and_Benefits    0\n",
              "Work_Life_balance            0\n",
              "VAR1                         0\n",
              "VAR2                         0\n",
              "VAR3                         0\n",
              "VAR4                         0\n",
              "VAR5                         0\n",
              "VAR6                         0\n",
              "VAR7                         0\n",
              "dtype: int64"
            ]
          },
          "metadata": {
            "tags": []
          },
          "execution_count": 7
        }
      ]
    },
    {
      "cell_type": "code",
      "metadata": {
        "id": "QQcBGkEb37eR",
        "colab_type": "code",
        "colab": {}
      },
      "source": [
        "features= ['Age', 'Education_Level', 'Time_of_service', 'Time_since_promotion', 'growth_rate', 'growth_rate', 'Travel_Rate', 'Post_Level', 'Pay_Scale', 'Compensation_and_Benefits' , 'Work_Life_balance']    #selecting the features for predicting attrition value\n",
        "x_train= train_data[features].values    #storing the training data in a new variable with the required features\n",
        "y_train= train_data.iloc[:, -1].values   #storing the test data in a new variable with the dependent column\n",
        "x_test= test_data[features].values    #storing the test data in a new variable with the required features "
      ],
      "execution_count": 8,
      "outputs": []
    },
    {
      "cell_type": "code",
      "metadata": {
        "id": "mrVXD506992n",
        "colab_type": "code",
        "colab": {
          "base_uri": "https://localhost:8080/",
          "height": 136
        },
        "outputId": "3b8c9176-bc60-414d-def2-159dc36e5c04"
      },
      "source": [
        "print(x_train)"
      ],
      "execution_count": 9,
      "outputs": [
        {
          "output_type": "stream",
          "text": [
            "[[42.0 4 4.0 ... 7.0 'type2' 3.0]\n",
            " [24.0 3 5.0 ... 6.0 'type2' 4.0]\n",
            " [58.0 3 27.0 ... 8.0 'type2' 1.0]\n",
            " ...\n",
            " [49.0 3 10.0 ... 3.0 'type2' 4.0]\n",
            " [47.0 3 24.0 ... 8.0 'type0' 2.0]\n",
            " [58.0 3 22.0 ... 5.0 'type2' 3.0]]\n"
          ],
          "name": "stdout"
        }
      ]
    },
    {
      "cell_type": "code",
      "metadata": {
        "id": "qRwYZKkZ0y1N",
        "colab_type": "code",
        "colab": {
          "base_uri": "https://localhost:8080/",
          "height": 136
        },
        "outputId": "d693e6d0-57a8-44d8-91a6-f27a9e8504dd"
      },
      "source": [
        "print(x_test)"
      ],
      "execution_count": 10,
      "outputs": [
        {
          "output_type": "stream",
          "text": [
            "[[32.0 5 7.0 ... 4.0 'type2' 1.0]\n",
            " [65.0 2 41.0 ... 1.0 'type2' 1.0]\n",
            " [52.0 3 21.0 ... 8.0 'type3' 1.0]\n",
            " ...\n",
            " [60.0 4 35.0 ... 9.0 'type3' 3.0]\n",
            " [51.0 1 23.0 ... 6.0 'type3' 1.0]\n",
            " [45.0 1 12.0 ... 8.0 'type4' 4.0]]\n"
          ],
          "name": "stdout"
        }
      ]
    },
    {
      "cell_type": "code",
      "metadata": {
        "id": "ErW5dbX1Nh-P",
        "colab_type": "code",
        "colab": {}
      },
      "source": [
        "#encoding categorical data in training set using One Hot Encoding method \n",
        "from sklearn.compose import ColumnTransformer\n",
        "from sklearn.preprocessing import OneHotEncoder\n",
        "ct = ColumnTransformer(transformers=[('encoder', OneHotEncoder(), [9])], remainder='passthrough')\n",
        "x_train = np.array(ct.fit_transform(x_train))"
      ],
      "execution_count": 11,
      "outputs": []
    },
    {
      "cell_type": "code",
      "metadata": {
        "id": "NH4RAzm5N19L",
        "colab_type": "code",
        "colab": {
          "base_uri": "https://localhost:8080/",
          "height": 136
        },
        "outputId": "9ac9513b-73b2-4d6c-f125-7e42a8b8151d"
      },
      "source": [
        "print(x_train)"
      ],
      "execution_count": 12,
      "outputs": [
        {
          "output_type": "stream",
          "text": [
            "[[0.0 0.0 1.0 ... 1 7.0 3.0]\n",
            " [0.0 0.0 1.0 ... 3 6.0 4.0]\n",
            " [0.0 0.0 1.0 ... 2 8.0 1.0]\n",
            " ...\n",
            " [0.0 0.0 1.0 ... 2 3.0 4.0]\n",
            " [1.0 0.0 0.0 ... 5 8.0 2.0]\n",
            " [0.0 0.0 1.0 ... 4 5.0 3.0]]\n"
          ],
          "name": "stdout"
        }
      ]
    },
    {
      "cell_type": "code",
      "metadata": {
        "id": "eXx2s5-jN5qi",
        "colab_type": "code",
        "colab": {}
      },
      "source": [
        "#encoding categorical data in test set using One Hot Encoding method \n",
        "from sklearn.compose import ColumnTransformer\n",
        "from sklearn.preprocessing import OneHotEncoder\n",
        "ct = ColumnTransformer(transformers=[('encoder', OneHotEncoder(), [9])], remainder='passthrough')\n",
        "x_test = np.array(ct.fit_transform(x_test))"
      ],
      "execution_count": 13,
      "outputs": []
    },
    {
      "cell_type": "code",
      "metadata": {
        "id": "LTFcn_hQODFn",
        "colab_type": "code",
        "colab": {
          "base_uri": "https://localhost:8080/",
          "height": 136
        },
        "outputId": "9cdd18f6-798b-42e1-ec20-670ef711e804"
      },
      "source": [
        "print(x_test)"
      ],
      "execution_count": 14,
      "outputs": [
        {
          "output_type": "stream",
          "text": [
            "[[0.0 0.0 1.0 ... 5 4.0 1.0]\n",
            " [0.0 0.0 1.0 ... 1 1.0 1.0]\n",
            " [0.0 0.0 0.0 ... 1 8.0 1.0]\n",
            " ...\n",
            " [0.0 0.0 0.0 ... 2 9.0 3.0]\n",
            " [0.0 0.0 0.0 ... 2 6.0 1.0]\n",
            " [0.0 0.0 0.0 ... 2 8.0 4.0]]\n"
          ],
          "name": "stdout"
        }
      ]
    },
    {
      "cell_type": "code",
      "metadata": {
        "id": "xgPzGAcL07qJ",
        "colab_type": "code",
        "colab": {
          "base_uri": "https://localhost:8080/",
          "height": 34
        },
        "outputId": "e26b0c33-38ac-4091-c64f-a6bac8e1c676"
      },
      "source": [
        "#training of x_train and y_train using Multiple Linear Regression\n",
        "from sklearn.linear_model import LinearRegression\n",
        "regressor = LinearRegression()\n",
        "regressor.fit(x_train, y_train)"
      ],
      "execution_count": 15,
      "outputs": [
        {
          "output_type": "execute_result",
          "data": {
            "text/plain": [
              "LinearRegression(copy_X=True, fit_intercept=True, n_jobs=None, normalize=False)"
            ]
          },
          "metadata": {
            "tags": []
          },
          "execution_count": 15
        }
      ]
    },
    {
      "cell_type": "code",
      "metadata": {
        "id": "UeyITOm2-f4W",
        "colab_type": "code",
        "colab": {}
      },
      "source": [
        "#predicting the attrition value using the test set\n",
        "y_pred = regressor.predict(x_test)"
      ],
      "execution_count": 16,
      "outputs": []
    },
    {
      "cell_type": "code",
      "metadata": {
        "id": "iCEg1h7mAtbN",
        "colab_type": "code",
        "colab": {}
      },
      "source": [
        "#saving my results in a .csv file\n",
        "output = pd.DataFrame({'Employee_ID': test_data.Employee_ID, 'Attrition_rate': y_pred})\n",
        "output.to_csv('my_prediction.csv', index=False)"
      ],
      "execution_count": 17,
      "outputs": []
    }
  ]
}